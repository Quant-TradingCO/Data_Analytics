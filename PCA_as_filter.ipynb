{
 "cells": [
  {
   "cell_type": "markdown",
   "metadata": {},
   "source": [
    "![This is an image](Quant-Trading.jpg)"
   ]
  },
  {
   "cell_type": "markdown",
   "metadata": {},
   "source": [
    "<font size=\"3\">\n",
    "Please visit our website <a href=\"https://www.quant-trading.co\" target=\"_blank\">quant-trading.co</a> for more tools on quantitative finance and data science.\n",
    "</font>"
   ]
  },
  {
   "cell_type": "markdown",
   "metadata": {},
   "source": [
    "# **PRINCIPAL COMPONENT ANALYSIS FOR INTEREST RATES**\n",
    "\n",
    "## **Use PCA as a filter**\n",
    "\n",
    "<font size=\"3\"> In this notebook we are showing how to use Principal Component Analysis for Interest Rates. In particular we are going to show how PCA can be used as a filter. In a previous <a href=\"https://quant-trading.co/principal-component-analysis-for-interest-rates/\" target=\"_blank\">notebook</a> we explain what PCA is, how you can calculate it and provided a few examples on how it is applied on interest rate curves. The application of PCA as a filter, can serve us to get a signal using the most important information of a dataset<br><br>"
   ]
  },
  {
   "cell_type": "markdown",
   "metadata": {},
   "source": [
    "## **First thing to do: Import all the required libraries**\n",
    "\n",
    "<font size=\"3\"> Here we will be using libraries such as pandas or numpy for calculations. We will also use matplotlib to make charts. We will use pandas_datareader to download data from the FRED API. If you would like to know how to do that, please take a look at our <a href=\"https://quant-trading.co/how-to-download-data-from-federal-reserve-fred-api/\" target=\"_blank\">notebook</a> on downloading economic and financial Data from FRED, the FED of St Louis. We also need libraries such as sklearn or scipy.optimize for more advanced calculations<br><br>  "
   ]
  },
  {
   "cell_type": "code",
   "execution_count": 1,
   "metadata": {},
   "outputs": [],
   "source": [
    "import pandas as pd\n",
    "import numpy as np\n",
    "import matplotlib.pyplot as plt\n",
    "import matplotlib.ticker as ticker\n",
    "import matplotlib.font_manager as font_manager\n",
    "from matplotlib.ticker import FormatStrFormatter\n",
    "import matplotlib.dates as mdates\n",
    "formatter = mdates.DateFormatter(\"%Y-%m-%d\")\n",
    "import sklearn\n",
    "from sklearn import decomposition\n",
    "from sklearn import datasets\n",
    "import datetime\n",
    "import pandas_datareader.data as web\n",
    "from math import pi, cos, sin\n",
    "from scipy.optimize import minimize"
   ]
  },
  {
   "cell_type": "markdown",
   "metadata": {},
   "source": [
    "## **Download yield from treasury bonds**\n",
    "\n",
    "<font size=\"3\">We need to download data for treasury bonds with different maturities. Fortunately, we can find series of constant maturity treasuries on FRED. That would be a theoretical yield, since all the treasuries mature at some point in time, but the Federal Reserve uses a methodology to track the yields of constant maturity bonds. We will get that information from 1 year up to 30 years to maturity using the following script:<br><br>  "
   ]
  },
  {
   "cell_type": "code",
   "execution_count": 2,
   "metadata": {
    "scrolled": false
   },
   "outputs": [
    {
     "data": {
      "text/html": [
       "<div>\n",
       "<style scoped>\n",
       "    .dataframe tbody tr th:only-of-type {\n",
       "        vertical-align: middle;\n",
       "    }\n",
       "\n",
       "    .dataframe tbody tr th {\n",
       "        vertical-align: top;\n",
       "    }\n",
       "\n",
       "    .dataframe thead th {\n",
       "        text-align: right;\n",
       "    }\n",
       "</style>\n",
       "<table border=\"1\" class=\"dataframe\">\n",
       "  <thead>\n",
       "    <tr style=\"text-align: right;\">\n",
       "      <th></th>\n",
       "      <th>DATE</th>\n",
       "      <th>DGS1</th>\n",
       "      <th>DGS2</th>\n",
       "      <th>DGS3</th>\n",
       "      <th>DGS5</th>\n",
       "      <th>DGS7</th>\n",
       "      <th>DGS10</th>\n",
       "      <th>DGS30</th>\n",
       "    </tr>\n",
       "  </thead>\n",
       "  <tbody>\n",
       "    <tr>\n",
       "      <th>0</th>\n",
       "      <td>1980-01-02</td>\n",
       "      <td>11.89</td>\n",
       "      <td>11.39</td>\n",
       "      <td>10.77</td>\n",
       "      <td>10.52</td>\n",
       "      <td>10.51</td>\n",
       "      <td>10.50</td>\n",
       "      <td>10.23</td>\n",
       "    </tr>\n",
       "    <tr>\n",
       "      <th>1</th>\n",
       "      <td>1980-01-03</td>\n",
       "      <td>12.25</td>\n",
       "      <td>11.45</td>\n",
       "      <td>10.79</td>\n",
       "      <td>10.54</td>\n",
       "      <td>10.59</td>\n",
       "      <td>10.60</td>\n",
       "      <td>10.31</td>\n",
       "    </tr>\n",
       "    <tr>\n",
       "      <th>2</th>\n",
       "      <td>1980-01-04</td>\n",
       "      <td>12.25</td>\n",
       "      <td>11.47</td>\n",
       "      <td>10.81</td>\n",
       "      <td>10.62</td>\n",
       "      <td>10.63</td>\n",
       "      <td>10.66</td>\n",
       "      <td>10.34</td>\n",
       "    </tr>\n",
       "    <tr>\n",
       "      <th>3</th>\n",
       "      <td>1980-01-07</td>\n",
       "      <td>12.07</td>\n",
       "      <td>11.35</td>\n",
       "      <td>10.72</td>\n",
       "      <td>10.56</td>\n",
       "      <td>10.60</td>\n",
       "      <td>10.63</td>\n",
       "      <td>10.35</td>\n",
       "    </tr>\n",
       "    <tr>\n",
       "      <th>4</th>\n",
       "      <td>1980-01-08</td>\n",
       "      <td>11.94</td>\n",
       "      <td>11.26</td>\n",
       "      <td>10.67</td>\n",
       "      <td>10.52</td>\n",
       "      <td>10.55</td>\n",
       "      <td>10.57</td>\n",
       "      <td>10.28</td>\n",
       "    </tr>\n",
       "  </tbody>\n",
       "</table>\n",
       "</div>"
      ],
      "text/plain": [
       "        DATE   DGS1   DGS2   DGS3   DGS5   DGS7  DGS10  DGS30\n",
       "0 1980-01-02  11.89  11.39  10.77  10.52  10.51  10.50  10.23\n",
       "1 1980-01-03  12.25  11.45  10.79  10.54  10.59  10.60  10.31\n",
       "2 1980-01-04  12.25  11.47  10.81  10.62  10.63  10.66  10.34\n",
       "3 1980-01-07  12.07  11.35  10.72  10.56  10.60  10.63  10.35\n",
       "4 1980-01-08  11.94  11.26  10.67  10.52  10.55  10.57  10.28"
      ]
     },
     "execution_count": 2,
     "metadata": {},
     "output_type": "execute_result"
    }
   ],
   "source": [
    "#Parámetros de fechas\n",
    "start = datetime.datetime(1980, 1, 1)\n",
    "end = datetime.datetime(2024, 10, 31)\n",
    "\n",
    "#US Treasuries\n",
    "\n",
    "US_Rates = web.DataReader(['DGS1','DGS2','DGS3','DGS5','DGS7','DGS10','DGS30'], 'fred', start, end)\n",
    "US_Rates.dropna(inplace=True)\n",
    "US_Rates.reset_index(inplace=True)\n",
    "US_Rates.head()"
   ]
  },
  {
   "cell_type": "markdown",
   "metadata": {},
   "source": [
    "## **Principal Component Analysis for interest rates**\n",
    "\n",
    "<font size=\"3\">We can use sklearn, with its a method decomposition, to get the A matrix which is quite important in PCA. Below we show an example on how to do that:<br><br> \n",
    "    \n",
    "<font size=\"3\">Remember that in PCA we want to make a linear transformation of the following type: Y = A'X . As we already metioned, we can get A from sklearn, and X is the matrix that contains the information of interest rates. X is a 7xn matrix in this case <br><br>  "
   ]
  },
  {
   "cell_type": "code",
   "execution_count": 3,
   "metadata": {},
   "outputs": [
    {
     "data": {
      "text/plain": [
       "array([[ 0.39825176,  0.40335276,  0.39802213,  0.3846276 ,  0.37256644,\n",
       "         0.35885018,  0.32367095],\n",
       "       [ 0.58513767,  0.34110808,  0.17144884, -0.0911691 , -0.24480187,\n",
       "        -0.37394448, -0.5511717 ],\n",
       "       [ 0.58674098, -0.1307027 , -0.379132  , -0.36856894, -0.24473813,\n",
       "         0.07696616,  0.54152299],\n",
       "       [ 0.35031375, -0.48096887, -0.3610499 ,  0.24655607,  0.3629365 ,\n",
       "         0.32917769, -0.46338045],\n",
       "       [ 0.12962773, -0.32497991,  0.00136822,  0.53383149,  0.09252116,\n",
       "        -0.70795212,  0.28783747],\n",
       "       [ 0.04278993, -0.32920695,  0.33050195,  0.36952952, -0.72903819,\n",
       "         0.33483086, -0.01999539],\n",
       "       [-0.11571694,  0.50847656, -0.65486806,  0.47496181, -0.26379878,\n",
       "         0.06166383, -0.01510146]])"
      ]
     },
     "execution_count": 3,
     "metadata": {},
     "output_type": "execute_result"
    }
   ],
   "source": [
    "pca = decomposition.PCA(n_components=7)\n",
    "matrix_A = pca.fit(US_Rates[['DGS1','DGS2','DGS3','DGS5','DGS7','DGS10','DGS30']]).components_\n",
    "matrix_A"
   ]
  },
  {
   "cell_type": "code",
   "execution_count": 4,
   "metadata": {},
   "outputs": [
    {
     "data": {
      "text/plain": [
       "(7, 7)"
      ]
     },
     "execution_count": 4,
     "metadata": {},
     "output_type": "execute_result"
    }
   ],
   "source": [
    "#The shape of the A matrix is 7x7\n",
    "matrix_A.shape"
   ]
  },
  {
   "cell_type": "code",
   "execution_count": 30,
   "metadata": {},
   "outputs": [
    {
     "data": {
      "text/plain": [
       "array([[11.89, 12.25, 12.25, ...,  3.98,  3.96,  3.97],\n",
       "       [11.39, 11.45, 11.47, ...,  3.66,  3.61,  3.63],\n",
       "       [10.77, 10.79, 10.81, ...,  3.58,  3.52,  3.54],\n",
       "       ...,\n",
       "       [10.51, 10.59, 10.63, ...,  3.67,  3.6 ,  3.65],\n",
       "       [10.5 , 10.6 , 10.66, ...,  3.81,  3.74,  3.79],\n",
       "       [10.23, 10.31, 10.34, ...,  4.14,  4.08,  4.14]])"
      ]
     },
     "execution_count": 30,
     "metadata": {},
     "output_type": "execute_result"
    }
   ],
   "source": [
    "X = np.array(US_Rates[['DGS1','DGS2','DGS3','DGS5','DGS7','DGS10','DGS30']]).T\n",
    "X"
   ]
  },
  {
   "cell_type": "code",
   "execution_count": 31,
   "metadata": {},
   "outputs": [
    {
     "data": {
      "text/plain": [
       "(7, 11191)"
      ]
     },
     "execution_count": 31,
     "metadata": {},
     "output_type": "execute_result"
    }
   ],
   "source": [
    "X.shape"
   ]
  },
  {
   "cell_type": "markdown",
   "metadata": {},
   "source": [
    "<font size=\"3\">Y is the rotated system, and its dimension is 7xn as well<br><br> "
   ]
  },
  {
   "cell_type": "code",
   "execution_count": 11,
   "metadata": {},
   "outputs": [
    {
     "data": {
      "text/plain": [
       "array([[22.03232997, 22.23494181, 22.29068548, ...,  7.2409971 ,\n",
       "         7.13892254,  7.18203305],\n",
       "       [ 0.54312825,  0.67832734,  0.62656062, ...,  0.32215359,\n",
       "         0.3538256 ,  0.34062773],\n",
       "       [-4.41086099, -4.29131953, -4.32411838, ..., -1.88514035,\n",
       "        -1.83759065, -1.87490466],\n",
       "       ...,\n",
       "       [-6.55738112, -6.52218737, -6.55089866, ..., -2.52022004,\n",
       "        -2.46576842, -2.50496988],\n",
       "       [ 1.00534412,  1.10199641,  1.11601274, ...,  0.44639147,\n",
       "         0.45266994,  0.44852975],\n",
       "       [ 1.18877453,  1.29360797,  1.26620529, ...,  0.46833331,\n",
       "         0.47152087,  0.4685154 ]])"
      ]
     },
     "execution_count": 11,
     "metadata": {},
     "output_type": "execute_result"
    }
   ],
   "source": [
    "Y = matrix_A.T.dot(X)\n",
    "Y"
   ]
  },
  {
   "cell_type": "code",
   "execution_count": 12,
   "metadata": {
    "scrolled": true
   },
   "outputs": [
    {
     "data": {
      "text/plain": [
       "(7, 11191)"
      ]
     },
     "execution_count": 12,
     "metadata": {},
     "output_type": "execute_result"
    }
   ],
   "source": [
    "Y.shape"
   ]
  },
  {
   "cell_type": "markdown",
   "metadata": {},
   "source": [
    "## **Explained variance ratio**\n",
    "\n",
    "<font size=\"3\">Please remember that PCA is a dimensionality reduction technique. Most of the variance of a system is usually explained by a few principal components. In this case the first PC explains 98.4% of the total variance, huge!<br><br> "
   ]
  },
  {
   "cell_type": "code",
   "execution_count": 5,
   "metadata": {
    "scrolled": true
   },
   "outputs": [
    {
     "data": {
      "text/plain": [
       "array([0.984, 0.015, 0.001, 0.   , 0.   , 0.   , 0.   ])"
      ]
     },
     "execution_count": 5,
     "metadata": {},
     "output_type": "execute_result"
    }
   ],
   "source": [
    "np.round(pca.explained_variance_ratio_,3)"
   ]
  },
  {
   "cell_type": "markdown",
   "metadata": {},
   "source": [
    "## **Y star**\n",
    "\n",
    "<font size=\"3\">We woould like to create a new array called Y* or Y_star. That will only contain some of the rows of Y. Since most of the variance in the system is explained by the first 2-components, we are only going to use the first 2 rows. The rest of the elements will be zero. We can use some of the numpy functions to manipulate our array and manage to build Y*. We show that below:<br><br> "
   ]
  },
  {
   "cell_type": "code",
   "execution_count": 19,
   "metadata": {},
   "outputs": [
    {
     "data": {
      "text/plain": [
       "array([[22.03232997, 22.23494181, 22.29068548, ...,  7.2409971 ,\n",
       "         7.13892254,  7.18203305],\n",
       "       [ 0.54312825,  0.67832734,  0.62656062, ...,  0.32215359,\n",
       "         0.3538256 ,  0.34062773]])"
      ]
     },
     "execution_count": 19,
     "metadata": {},
     "output_type": "execute_result"
    }
   ],
   "source": [
    "Y[0:2:]"
   ]
  },
  {
   "cell_type": "code",
   "execution_count": 18,
   "metadata": {},
   "outputs": [
    {
     "data": {
      "text/plain": [
       "(2, 11191)"
      ]
     },
     "execution_count": 18,
     "metadata": {},
     "output_type": "execute_result"
    }
   ],
   "source": [
    "Y[0:2:].shape"
   ]
  },
  {
   "cell_type": "code",
   "execution_count": 14,
   "metadata": {},
   "outputs": [
    {
     "data": {
      "text/plain": [
       "array([[0., 0., 0., ..., 0., 0., 0.],\n",
       "       [0., 0., 0., ..., 0., 0., 0.],\n",
       "       [0., 0., 0., ..., 0., 0., 0.],\n",
       "       [0., 0., 0., ..., 0., 0., 0.],\n",
       "       [0., 0., 0., ..., 0., 0., 0.]])"
      ]
     },
     "execution_count": 14,
     "metadata": {},
     "output_type": "execute_result"
    }
   ],
   "source": [
    "np.zeros((5,11191))"
   ]
  },
  {
   "cell_type": "code",
   "execution_count": 20,
   "metadata": {},
   "outputs": [
    {
     "data": {
      "text/plain": [
       "array([[22.03232997, 22.23494181, 22.29068548, ...,  7.2409971 ,\n",
       "         7.13892254,  7.18203305],\n",
       "       [ 0.54312825,  0.67832734,  0.62656062, ...,  0.32215359,\n",
       "         0.3538256 ,  0.34062773],\n",
       "       [ 0.        ,  0.        ,  0.        , ...,  0.        ,\n",
       "         0.        ,  0.        ],\n",
       "       ...,\n",
       "       [ 0.        ,  0.        ,  0.        , ...,  0.        ,\n",
       "         0.        ,  0.        ],\n",
       "       [ 0.        ,  0.        ,  0.        , ...,  0.        ,\n",
       "         0.        ,  0.        ],\n",
       "       [ 0.        ,  0.        ,  0.        , ...,  0.        ,\n",
       "         0.        ,  0.        ]])"
      ]
     },
     "execution_count": 20,
     "metadata": {},
     "output_type": "execute_result"
    }
   ],
   "source": [
    "Y_star = np.concatenate((Y[0:2:], np.zeros((5,11191))))\n",
    "Y_star"
   ]
  },
  {
   "cell_type": "code",
   "execution_count": 21,
   "metadata": {},
   "outputs": [
    {
     "data": {
      "text/plain": [
       "(7, 11191)"
      ]
     },
     "execution_count": 21,
     "metadata": {},
     "output_type": "execute_result"
    }
   ],
   "source": [
    "Y_star.shape"
   ]
  },
  {
   "cell_type": "markdown",
   "metadata": {},
   "source": [
    "## **X star**\n",
    "\n",
    "<font size=\"3\">Now, that we have built Y*, we can create a new X* matrix. X* will be a filtered matrix, since it is built only using the strongest principal components. It is a way to recover a system from the signals that explain most of its variance. To get that X* we can use the equation X* = YA <br><br> "
   ]
  },
  {
   "cell_type": "code",
   "execution_count": 24,
   "metadata": {},
   "outputs": [
    {
     "data": {
      "text/plain": [
       "array([[9.09221902, 9.07206658, 8.86247351, ..., 8.07554782, 7.70320568,\n",
       "        6.83186833],\n",
       "       [9.25201963, 9.19990813, 8.96629723, ..., 8.1179372 , 7.72535602,\n",
       "        6.82292999],\n",
       "       [9.24392898, 9.20473445, 8.9796091 , ..., 8.15137801, 7.76471753,\n",
       "        6.86950494],\n",
       "       ...,\n",
       "       [3.07224405, 3.03056537, 2.93730992, ..., 2.61888868, 2.47796553,\n",
       "        2.1661385 ],\n",
       "       [3.05012517, 3.0001969 , 2.90211211, ..., 2.57310575, 2.42949248,\n",
       "        2.11564321],\n",
       "       [3.05957143, 3.01308374, 2.91700829, ..., 2.59239814, 2.44989797,\n",
       "        2.13687112]])"
      ]
     },
     "execution_count": 24,
     "metadata": {},
     "output_type": "execute_result"
    }
   ],
   "source": [
    "X_star = Y_star.T.dot(matrix_A)\n",
    "X_star"
   ]
  },
  {
   "cell_type": "markdown",
   "metadata": {},
   "source": [
    "<font size=\"3\">We can now compare how the original time series behaves compared to the filtered one<br><br> "
   ]
  },
  {
   "cell_type": "code",
   "execution_count": 25,
   "metadata": {},
   "outputs": [
    {
     "data": {
      "text/html": [
       "<div>\n",
       "<style scoped>\n",
       "    .dataframe tbody tr th:only-of-type {\n",
       "        vertical-align: middle;\n",
       "    }\n",
       "\n",
       "    .dataframe tbody tr th {\n",
       "        vertical-align: top;\n",
       "    }\n",
       "\n",
       "    .dataframe thead th {\n",
       "        text-align: right;\n",
       "    }\n",
       "</style>\n",
       "<table border=\"1\" class=\"dataframe\">\n",
       "  <thead>\n",
       "    <tr style=\"text-align: right;\">\n",
       "      <th></th>\n",
       "      <th>0</th>\n",
       "      <th>1</th>\n",
       "      <th>2</th>\n",
       "      <th>3</th>\n",
       "      <th>4</th>\n",
       "      <th>5</th>\n",
       "      <th>6</th>\n",
       "    </tr>\n",
       "  </thead>\n",
       "  <tbody>\n",
       "    <tr>\n",
       "      <th>0</th>\n",
       "      <td>9.092219</td>\n",
       "      <td>9.072067</td>\n",
       "      <td>8.862474</td>\n",
       "      <td>8.424726</td>\n",
       "      <td>8.075548</td>\n",
       "      <td>7.703206</td>\n",
       "      <td>6.831868</td>\n",
       "    </tr>\n",
       "    <tr>\n",
       "      <th>1</th>\n",
       "      <td>9.252020</td>\n",
       "      <td>9.199908</td>\n",
       "      <td>8.966297</td>\n",
       "      <td>8.490330</td>\n",
       "      <td>8.117937</td>\n",
       "      <td>7.725356</td>\n",
       "      <td>6.822930</td>\n",
       "    </tr>\n",
       "    <tr>\n",
       "      <th>2</th>\n",
       "      <td>9.243929</td>\n",
       "      <td>9.204734</td>\n",
       "      <td>8.979609</td>\n",
       "      <td>8.516490</td>\n",
       "      <td>8.151378</td>\n",
       "      <td>7.764718</td>\n",
       "      <td>6.869505</td>\n",
       "    </tr>\n",
       "    <tr>\n",
       "      <th>3</th>\n",
       "      <td>9.127288</td>\n",
       "      <td>9.098724</td>\n",
       "      <td>8.882961</td>\n",
       "      <td>8.435475</td>\n",
       "      <td>8.080448</td>\n",
       "      <td>7.703058</td>\n",
       "      <td>6.824201</td>\n",
       "    </tr>\n",
       "    <tr>\n",
       "      <th>4</th>\n",
       "      <td>9.034729</td>\n",
       "      <td>9.019305</td>\n",
       "      <td>8.813997</td>\n",
       "      <td>8.383461</td>\n",
       "      <td>8.038977</td>\n",
       "      <td>7.670983</td>\n",
       "      <td>6.807451</td>\n",
       "    </tr>\n",
       "    <tr>\n",
       "      <th>...</th>\n",
       "      <td>...</td>\n",
       "      <td>...</td>\n",
       "      <td>...</td>\n",
       "      <td>...</td>\n",
       "      <td>...</td>\n",
       "      <td>...</td>\n",
       "      <td>...</td>\n",
       "    </tr>\n",
       "    <tr>\n",
       "      <th>11186</th>\n",
       "      <td>3.037618</td>\n",
       "      <td>2.996995</td>\n",
       "      <td>2.905168</td>\n",
       "      <td>2.726188</td>\n",
       "      <td>2.591219</td>\n",
       "      <td>2.452138</td>\n",
       "      <td>2.144118</td>\n",
       "    </tr>\n",
       "    <tr>\n",
       "      <th>11187</th>\n",
       "      <td>3.000467</td>\n",
       "      <td>2.957212</td>\n",
       "      <td>2.864494</td>\n",
       "      <td>2.684680</td>\n",
       "      <td>2.549671</td>\n",
       "      <td>2.410935</td>\n",
       "      <td>2.105120</td>\n",
       "    </tr>\n",
       "    <tr>\n",
       "      <th>11188</th>\n",
       "      <td>3.072244</td>\n",
       "      <td>3.030565</td>\n",
       "      <td>2.937310</td>\n",
       "      <td>2.755717</td>\n",
       "      <td>2.618889</td>\n",
       "      <td>2.477966</td>\n",
       "      <td>2.166138</td>\n",
       "    </tr>\n",
       "    <tr>\n",
       "      <th>11189</th>\n",
       "      <td>3.050125</td>\n",
       "      <td>3.000197</td>\n",
       "      <td>2.902112</td>\n",
       "      <td>2.713569</td>\n",
       "      <td>2.573106</td>\n",
       "      <td>2.429492</td>\n",
       "      <td>2.115643</td>\n",
       "    </tr>\n",
       "    <tr>\n",
       "      <th>11190</th>\n",
       "      <td>3.059571</td>\n",
       "      <td>3.013084</td>\n",
       "      <td>2.917008</td>\n",
       "      <td>2.731353</td>\n",
       "      <td>2.592398</td>\n",
       "      <td>2.449898</td>\n",
       "      <td>2.136871</td>\n",
       "    </tr>\n",
       "  </tbody>\n",
       "</table>\n",
       "<p>11191 rows × 7 columns</p>\n",
       "</div>"
      ],
      "text/plain": [
       "              0         1         2         3         4         5         6\n",
       "0      9.092219  9.072067  8.862474  8.424726  8.075548  7.703206  6.831868\n",
       "1      9.252020  9.199908  8.966297  8.490330  8.117937  7.725356  6.822930\n",
       "2      9.243929  9.204734  8.979609  8.516490  8.151378  7.764718  6.869505\n",
       "3      9.127288  9.098724  8.882961  8.435475  8.080448  7.703058  6.824201\n",
       "4      9.034729  9.019305  8.813997  8.383461  8.038977  7.670983  6.807451\n",
       "...         ...       ...       ...       ...       ...       ...       ...\n",
       "11186  3.037618  2.996995  2.905168  2.726188  2.591219  2.452138  2.144118\n",
       "11187  3.000467  2.957212  2.864494  2.684680  2.549671  2.410935  2.105120\n",
       "11188  3.072244  3.030565  2.937310  2.755717  2.618889  2.477966  2.166138\n",
       "11189  3.050125  3.000197  2.902112  2.713569  2.573106  2.429492  2.115643\n",
       "11190  3.059571  3.013084  2.917008  2.731353  2.592398  2.449898  2.136871\n",
       "\n",
       "[11191 rows x 7 columns]"
      ]
     },
     "execution_count": 25,
     "metadata": {},
     "output_type": "execute_result"
    }
   ],
   "source": [
    "US_Rates_star = pd.DataFrame(X_star)\n",
    "US_Rates_star"
   ]
  },
  {
   "cell_type": "code",
   "execution_count": 28,
   "metadata": {
    "scrolled": true
   },
   "outputs": [
    {
     "data": {
      "image/png": "[encoded data removed]",
      "text/plain": [
       "<Figure size 640x480 with 1 Axes>"
      ]
     },
     "metadata": {},
     "output_type": "display_data"
    }
   ],
   "source": [
    "plt.plot(US_Rates['DGS1'],color='darkblue',marker='o')\n",
    "plt.plot(US_Rates_star[0],color='royalblue',marker='o')\n",
    "plt.axis([None, None, None, None])\n",
    "plt.box(on=None)\n",
    "plt.show()"
   ]
  },
  {
   "cell_type": "code",
   "execution_count": 29,
   "metadata": {},
   "outputs": [
    {
     "data": {
      "image/png": "[encoded data removed]",
      "text/plain": [
       "<Figure size 640x480 with 1 Axes>"
      ]
     },
     "metadata": {},
     "output_type": "display_data"
    }
   ],
   "source": [
    "plt.plot(US_Rates['DGS10'],color='darkblue',marker='o')\n",
    "plt.plot(US_Rates_star[5],color='royalblue',marker='o')\n",
    "plt.axis([None, None, None, None])\n",
    "plt.box(on=None)\n",
    "plt.show()"
   ]
  },
  {
   "cell_type": "markdown",
   "metadata": {},
   "source": [
    "<font size=\"3\">You can notice that the observations move together. They only have slight differences in the level. <br><br> "
   ]
  },
  {
   "cell_type": "markdown",
   "metadata": {},
   "source": [
    "<font size=\"3\"> We hope this content has been useful. If you want to make a donation please click on the button below. It helps us with this website maintenance. \n",
    "\n",
    "[![paypal](https://www.paypalobjects.com/en_US/i/btn/btn_donateCC_LG.gif)](https://www.paypal.com/cgi-bin/webscr?cmd=_s-xclick&hosted_button_id=29CVY97MEQ9BY)"
   ]
  }
 ],
 "metadata": {
  "kernelspec": {
   "display_name": "Python 3 (ipykernel)",
   "language": "python",
   "name": "python3"
  },
  "language_info": {
   "codemirror_mode": {
    "name": "ipython",
    "version": 3
   },
   "file_extension": ".py",
   "mimetype": "text/x-python",
   "name": "python",
   "nbconvert_exporter": "python",
   "pygments_lexer": "ipython3",
   "version": "3.9.12"
  }
 },
 "nbformat": 4,
 "nbformat_minor": 2
}
